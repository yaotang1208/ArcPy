{
 "cells": [
  {
   "cell_type": "code",
   "execution_count": 1,
   "metadata": {},
   "outputs": [],
   "source": [
    "import pandas as pd\n",
    "from shutil import copyfile\n",
    "import shutil\n",
    "import os\n",
    "from pathlib import Path"
   ]
  },
  {
   "cell_type": "code",
   "execution_count": 2,
   "metadata": {},
   "outputs": [
    {
     "data": {
      "text/html": [
       "<div>\n",
       "<style scoped>\n",
       "    .dataframe tbody tr th:only-of-type {\n",
       "        vertical-align: middle;\n",
       "    }\n",
       "\n",
       "    .dataframe tbody tr th {\n",
       "        vertical-align: top;\n",
       "    }\n",
       "\n",
       "    .dataframe thead th {\n",
       "        text-align: right;\n",
       "    }\n",
       "</style>\n",
       "<table border=\"1\" class=\"dataframe\">\n",
       "  <thead>\n",
       "    <tr style=\"text-align: right;\">\n",
       "      <th></th>\n",
       "      <th>OBJECTID</th>\n",
       "      <th>Path</th>\n",
       "      <th>Name</th>\n",
       "      <th>DateTime</th>\n",
       "      <th>Direction</th>\n",
       "      <th>POINT_X</th>\n",
       "      <th>POINT_Y</th>\n",
       "      <th>POINT_Z</th>\n",
       "      <th>FacilityID</th>\n",
       "      <th>Note</th>\n",
       "    </tr>\n",
       "  </thead>\n",
       "  <tbody>\n",
       "    <tr>\n",
       "      <th>0</th>\n",
       "      <td>1</td>\n",
       "      <td>L:/Projects/3020/006-01/8-0 DESIGN PHASE/DATA ...</td>\n",
       "      <td>IMG_0317.JPG</td>\n",
       "      <td>NaN</td>\n",
       "      <td>-9999</td>\n",
       "      <td>-97.49933</td>\n",
       "      <td>27.81752</td>\n",
       "      <td>16.0</td>\n",
       "      <td>99-TO-21</td>\n",
       "      <td>NaN</td>\n",
       "    </tr>\n",
       "    <tr>\n",
       "      <th>1</th>\n",
       "      <td>2</td>\n",
       "      <td>L:/Projects/3020/006-01/8-0 DESIGN PHASE/DATA ...</td>\n",
       "      <td>IMG_0318.JPG</td>\n",
       "      <td>NaN</td>\n",
       "      <td>-9999</td>\n",
       "      <td>-97.49939</td>\n",
       "      <td>27.81752</td>\n",
       "      <td>16.0</td>\n",
       "      <td>99-TO-21</td>\n",
       "      <td>NaN</td>\n",
       "    </tr>\n",
       "    <tr>\n",
       "      <th>2</th>\n",
       "      <td>3</td>\n",
       "      <td>L:/Projects/3020/006-01/8-0 DESIGN PHASE/DATA ...</td>\n",
       "      <td>IMG_0319.JPG</td>\n",
       "      <td>NaN</td>\n",
       "      <td>-9999</td>\n",
       "      <td>-97.49931</td>\n",
       "      <td>27.81758</td>\n",
       "      <td>16.0</td>\n",
       "      <td>99-TO-21</td>\n",
       "      <td>NaN</td>\n",
       "    </tr>\n",
       "    <tr>\n",
       "      <th>3</th>\n",
       "      <td>4</td>\n",
       "      <td>L:/Projects/3020/006-01/8-0 DESIGN PHASE/DATA ...</td>\n",
       "      <td>IMG_0320.JPG</td>\n",
       "      <td>NaN</td>\n",
       "      <td>-9999</td>\n",
       "      <td>-97.49928</td>\n",
       "      <td>27.81776</td>\n",
       "      <td>31.0</td>\n",
       "      <td>99-TO-20</td>\n",
       "      <td>NaN</td>\n",
       "    </tr>\n",
       "    <tr>\n",
       "      <th>4</th>\n",
       "      <td>5</td>\n",
       "      <td>L:/Projects/3020/006-01/8-0 DESIGN PHASE/DATA ...</td>\n",
       "      <td>IMG_0321.JPG</td>\n",
       "      <td>NaN</td>\n",
       "      <td>-9999</td>\n",
       "      <td>-97.49888</td>\n",
       "      <td>27.81803</td>\n",
       "      <td>16.0</td>\n",
       "      <td>99-TO-20</td>\n",
       "      <td>NaN</td>\n",
       "    </tr>\n",
       "  </tbody>\n",
       "</table>\n",
       "</div>"
      ],
      "text/plain": [
       "   OBJECTID                                               Path          Name  \\\n",
       "0         1  L:/Projects/3020/006-01/8-0 DESIGN PHASE/DATA ...  IMG_0317.JPG   \n",
       "1         2  L:/Projects/3020/006-01/8-0 DESIGN PHASE/DATA ...  IMG_0318.JPG   \n",
       "2         3  L:/Projects/3020/006-01/8-0 DESIGN PHASE/DATA ...  IMG_0319.JPG   \n",
       "3         4  L:/Projects/3020/006-01/8-0 DESIGN PHASE/DATA ...  IMG_0320.JPG   \n",
       "4         5  L:/Projects/3020/006-01/8-0 DESIGN PHASE/DATA ...  IMG_0321.JPG   \n",
       "\n",
       "  DateTime  Direction   POINT_X   POINT_Y  POINT_Z FacilityID  Note  \n",
       "0      NaN      -9999 -97.49933  27.81752     16.0   99-TO-21   NaN  \n",
       "1      NaN      -9999 -97.49939  27.81752     16.0   99-TO-21   NaN  \n",
       "2      NaN      -9999 -97.49931  27.81758     16.0   99-TO-21   NaN  \n",
       "3      NaN      -9999 -97.49928  27.81776     31.0   99-TO-20   NaN  \n",
       "4      NaN      -9999 -97.49888  27.81803     16.0   99-TO-20   NaN  "
      ]
     },
     "execution_count": 2,
     "metadata": {},
     "output_type": "execute_result"
    }
   ],
   "source": [
    "df = pd.read_csv('KvillarealMBrewert_07102020.csv')\n",
    "df.head()"
   ]
  },
  {
   "cell_type": "code",
   "execution_count": 3,
   "metadata": {},
   "outputs": [],
   "source": [
    "# try:\n",
    "#     df.rename(columns = {\"Photo\":\"Path\"}, inplace=True)\n",
    "# except:\n",
    "#     print(\"Dataframe column name is correct\")"
   ]
  },
  {
   "cell_type": "code",
   "execution_count": 4,
   "metadata": {},
   "outputs": [
    {
     "data": {
      "text/plain": [
       "Index(['OBJECTID', 'Path', 'Name', 'DateTime', 'Direction', 'POINT_X',\n",
       "       'POINT_Y', 'POINT_Z', 'FacilityID', 'Note'],\n",
       "      dtype='object')"
      ]
     },
     "execution_count": 4,
     "metadata": {},
     "output_type": "execute_result"
    }
   ],
   "source": [
    "df.columns"
   ]
  },
  {
   "cell_type": "code",
   "execution_count": 5,
   "metadata": {},
   "outputs": [],
   "source": [
    "# df.Path"
   ]
  },
  {
   "cell_type": "code",
   "execution_count": 6,
   "metadata": {},
   "outputs": [],
   "source": [
    "# df['Path']"
   ]
  },
  {
   "cell_type": "code",
   "execution_count": 7,
   "metadata": {},
   "outputs": [],
   "source": [
    "# OldPath = r\"L:\\Projects\\3020\\006-01\\8-0 DESIGN PHASE\\DATA AND INFORMATION\\Task 3 Data Collection\\Facility Condition Assessment Photos\\Grid 51\\UNKNOWN\\20200313_160147.jpg\"\n",
    "# pathList = OldPath.split(\"\\\\\")\n",
    "# # os.path.join(pathList)\n",
    "# NewPath = '/'.join(pathList)\n",
    "# NewPath"
   ]
  },
  {
   "cell_type": "code",
   "execution_count": 8,
   "metadata": {},
   "outputs": [
    {
     "data": {
      "text/plain": [
       "0    L:/Projects/3020/006-01/8-0 DESIGN PHASE/DATA ...\n",
       "1    L:/Projects/3020/006-01/8-0 DESIGN PHASE/DATA ...\n",
       "2    L:/Projects/3020/006-01/8-0 DESIGN PHASE/DATA ...\n",
       "3    L:/Projects/3020/006-01/8-0 DESIGN PHASE/DATA ...\n",
       "4    L:/Projects/3020/006-01/8-0 DESIGN PHASE/DATA ...\n",
       "Name: NewLocation, dtype: object"
      ]
     },
     "execution_count": 8,
     "metadata": {},
     "output_type": "execute_result"
    }
   ],
   "source": [
    "# parent_dir = r'C:\\Users\\ytang\\Documents\\Projects\\3020\\006-07\\Python\\MovePhotos\\NewPhotos'\n",
    "parent_dir = 'L:/Projects/3020/006-01/8-0 DESIGN PHASE/DATA AND INFORMATION/Task 3 Data Collection/RearrangedPhotos'\n",
    "df['NewLocation'] = [parent_dir + '/Grid_' + i.split('-')[0] + '/' + i for i in df['FacilityID']]\n",
    "df['NewLocation'].head()"
   ]
  },
  {
   "cell_type": "code",
   "execution_count": 9,
   "metadata": {},
   "outputs": [
    {
     "data": {
      "text/plain": [
       "'L:/Projects/3020/006-01/8-0 DESIGN PHASE/DATA AND INFORMATION/Task 3 Data Collection/RearrangedPhotos/Grid_99/99-TO-21'"
      ]
     },
     "execution_count": 9,
     "metadata": {},
     "output_type": "execute_result"
    }
   ],
   "source": [
    "df['NewLocation'][0]"
   ]
  },
  {
   "cell_type": "code",
   "execution_count": 10,
   "metadata": {},
   "outputs": [],
   "source": [
    "# df_error = pd.DataFrame().reindex_like(df)\n",
    "# for i in range(len(df)):\n",
    "#     shutil.copy2(df['Path'][i], df['NewLocation'][i])\n",
    "#     print(i/len(df)*100)"
   ]
  },
  {
   "cell_type": "code",
   "execution_count": 11,
   "metadata": {},
   "outputs": [
    {
     "name": "stdout",
     "output_type": "stream",
     "text": [
      "Directory 'L:/Projects/3020/006-01/8-0 DESIGN PHASE/DATA AND INFORMATION/Task 3 Data Collection/RearrangedPhotos/Grid_99/99-TO-21' already created\n",
      "Directory 'L:/Projects/3020/006-01/8-0 DESIGN PHASE/DATA AND INFORMATION/Task 3 Data Collection/RearrangedPhotos/Grid_99/99-TO-21' already created\n",
      "Directory 'L:/Projects/3020/006-01/8-0 DESIGN PHASE/DATA AND INFORMATION/Task 3 Data Collection/RearrangedPhotos/Grid_99/99-TO-21' already created\n",
      "Directory 'L:/Projects/3020/006-01/8-0 DESIGN PHASE/DATA AND INFORMATION/Task 3 Data Collection/RearrangedPhotos/Grid_99/99-TO-20' already created\n",
      "Directory 'L:/Projects/3020/006-01/8-0 DESIGN PHASE/DATA AND INFORMATION/Task 3 Data Collection/RearrangedPhotos/Grid_99/99-TO-20' already created\n",
      "Directory 'L:/Projects/3020/006-01/8-0 DESIGN PHASE/DATA AND INFORMATION/Task 3 Data Collection/RearrangedPhotos/Grid_99/99-TO-20' already created\n",
      "Directory 'L:/Projects/3020/006-01/8-0 DESIGN PHASE/DATA AND INFORMATION/Task 3 Data Collection/RearrangedPhotos/Grid_99/99-TO-17' already created\n",
      "Directory 'L:/Projects/3020/006-01/8-0 DESIGN PHASE/DATA AND INFORMATION/Task 3 Data Collection/RearrangedPhotos/Grid_99/99-TO-17' already created\n",
      "Directory 'L:/Projects/3020/006-01/8-0 DESIGN PHASE/DATA AND INFORMATION/Task 3 Data Collection/RearrangedPhotos/Grid_99/99-TO-17' already created\n",
      "Directory 'L:/Projects/3020/006-01/8-0 DESIGN PHASE/DATA AND INFORMATION/Task 3 Data Collection/RearrangedPhotos/Grid_99/99-TO-17' already created\n",
      "Directory 'L:/Projects/3020/006-01/8-0 DESIGN PHASE/DATA AND INFORMATION/Task 3 Data Collection/RearrangedPhotos/Grid_19/19-CP-023' already created\n",
      "Directory 'L:/Projects/3020/006-01/8-0 DESIGN PHASE/DATA AND INFORMATION/Task 3 Data Collection/RearrangedPhotos/Grid_19/19-CP-023' already created\n",
      "Directory 'L:/Projects/3020/006-01/8-0 DESIGN PHASE/DATA AND INFORMATION/Task 3 Data Collection/RearrangedPhotos/Grid_19/19-CP-023' already created\n",
      "Directory 'L:/Projects/3020/006-01/8-0 DESIGN PHASE/DATA AND INFORMATION/Task 3 Data Collection/RearrangedPhotos/Grid_19/19-TZ-003' already created\n",
      "Directory 'L:/Projects/3020/006-01/8-0 DESIGN PHASE/DATA AND INFORMATION/Task 3 Data Collection/RearrangedPhotos/Grid_19/19-TZ-003' already created\n",
      "Directory 'L:/Projects/3020/006-01/8-0 DESIGN PHASE/DATA AND INFORMATION/Task 3 Data Collection/RearrangedPhotos/Grid_19/19-CP-020' already created\n",
      "Directory 'L:/Projects/3020/006-01/8-0 DESIGN PHASE/DATA AND INFORMATION/Task 3 Data Collection/RearrangedPhotos/Grid_44/44-TZ-016' already created\n",
      "Directory 'L:/Projects/3020/006-01/8-0 DESIGN PHASE/DATA AND INFORMATION/Task 3 Data Collection/RearrangedPhotos/Grid_44/44-TZ-016' already created\n",
      "Directory 'L:/Projects/3020/006-01/8-0 DESIGN PHASE/DATA AND INFORMATION/Task 3 Data Collection/RearrangedPhotos/Grid_49/49-IN-125' already created\n",
      "Directory 'L:/Projects/3020/006-01/8-0 DESIGN PHASE/DATA AND INFORMATION/Task 3 Data Collection/RearrangedPhotos/Grid_49/49-IN-125' already created\n",
      "Directory 'L:/Projects/3020/006-01/8-0 DESIGN PHASE/DATA AND INFORMATION/Task 3 Data Collection/RearrangedPhotos/Grid_49/49-IN-125' already created\n",
      "Directory 'L:/Projects/3020/006-01/8-0 DESIGN PHASE/DATA AND INFORMATION/Task 3 Data Collection/RearrangedPhotos/Grid_49/49-IN-125' already created\n",
      "Directory 'L:/Projects/3020/006-01/8-0 DESIGN PHASE/DATA AND INFORMATION/Task 3 Data Collection/RearrangedPhotos/Grid_49/49-IN-124' already created\n",
      "Directory 'L:/Projects/3020/006-01/8-0 DESIGN PHASE/DATA AND INFORMATION/Task 3 Data Collection/RearrangedPhotos/Grid_49/49-IN-124' already created\n",
      "Directory 'L:/Projects/3020/006-01/8-0 DESIGN PHASE/DATA AND INFORMATION/Task 3 Data Collection/RearrangedPhotos/Grid_49/49-IN-124' already created\n",
      "Directory 'L:/Projects/3020/006-01/8-0 DESIGN PHASE/DATA AND INFORMATION/Task 3 Data Collection/RearrangedPhotos/Grid_99/99-TO-16' already created\n",
      "Directory 'L:/Projects/3020/006-01/8-0 DESIGN PHASE/DATA AND INFORMATION/Task 3 Data Collection/RearrangedPhotos/Grid_99/99-TO-16' already created\n",
      "Directory 'L:/Projects/3020/006-01/8-0 DESIGN PHASE/DATA AND INFORMATION/Task 3 Data Collection/RearrangedPhotos/Grid_99/99-TO-16' already created\n",
      "Directory 'L:/Projects/3020/006-01/8-0 DESIGN PHASE/DATA AND INFORMATION/Task 3 Data Collection/RearrangedPhotos/Grid_99/99-TO-16' already created\n",
      "Directory 'L:/Projects/3020/006-01/8-0 DESIGN PHASE/DATA AND INFORMATION/Task 3 Data Collection/RearrangedPhotos/Grid_99/99-TO-16' already created\n",
      "Directory 'L:/Projects/3020/006-01/8-0 DESIGN PHASE/DATA AND INFORMATION/Task 3 Data Collection/RearrangedPhotos/Grid_99/99-TO-05' already created\n",
      "Directory 'L:/Projects/3020/006-01/8-0 DESIGN PHASE/DATA AND INFORMATION/Task 3 Data Collection/RearrangedPhotos/Grid_99/99-TO-05' already created\n",
      "Directory 'L:/Projects/3020/006-01/8-0 DESIGN PHASE/DATA AND INFORMATION/Task 3 Data Collection/RearrangedPhotos/Grid_99/99-TO-05' already created\n",
      "Directory 'L:/Projects/3020/006-01/8-0 DESIGN PHASE/DATA AND INFORMATION/Task 3 Data Collection/RearrangedPhotos/Grid_99/99-TO-05' already created\n",
      "Directory 'L:/Projects/3020/006-01/8-0 DESIGN PHASE/DATA AND INFORMATION/Task 3 Data Collection/RearrangedPhotos/Grid_99/99-TO-05' already created\n",
      "Directory 'L:/Projects/3020/006-01/8-0 DESIGN PHASE/DATA AND INFORMATION/Task 3 Data Collection/RearrangedPhotos/Grid_99/99-TO-01' already created\n",
      "Directory 'L:/Projects/3020/006-01/8-0 DESIGN PHASE/DATA AND INFORMATION/Task 3 Data Collection/RearrangedPhotos/Grid_99/99-TO-17' already created\n",
      "Directory 'L:/Projects/3020/006-01/8-0 DESIGN PHASE/DATA AND INFORMATION/Task 3 Data Collection/RearrangedPhotos/Grid_99/99-TO-13' already created\n",
      "Directory 'L:/Projects/3020/006-01/8-0 DESIGN PHASE/DATA AND INFORMATION/Task 3 Data Collection/RearrangedPhotos/Grid_99/99-TO-13' already created\n",
      "Directory 'L:/Projects/3020/006-01/8-0 DESIGN PHASE/DATA AND INFORMATION/Task 3 Data Collection/RearrangedPhotos/Grid_99/99-TO-13' already created\n",
      "Directory 'L:/Projects/3020/006-01/8-0 DESIGN PHASE/DATA AND INFORMATION/Task 3 Data Collection/RearrangedPhotos/Grid_99/99-TO-13' already created\n",
      "Directory 'L:/Projects/3020/006-01/8-0 DESIGN PHASE/DATA AND INFORMATION/Task 3 Data Collection/RearrangedPhotos/Grid_99/99-TO-13' already created\n",
      "Directory 'L:/Projects/3020/006-01/8-0 DESIGN PHASE/DATA AND INFORMATION/Task 3 Data Collection/RearrangedPhotos/Grid_99/99-TO-18' already created\n",
      "Directory 'L:/Projects/3020/006-01/8-0 DESIGN PHASE/DATA AND INFORMATION/Task 3 Data Collection/RearrangedPhotos/Grid_99/99-TO-17' already created\n"
     ]
    }
   ],
   "source": [
    "# df['NewLocation'] = [parent_dir + '/Grid_' + i.split('-')[0] + '/' + i for i in df['FacilityID']]\n",
    "for i in range(len(df)):\n",
    "    try: \n",
    "        os.makedirs(df['NewLocation'][i], exist_ok = False) \n",
    "#         print(\"Directory '%s' created successfully\" % df['NewLocation'][i])\n",
    "    except OSError as error: \n",
    "        print(\"Directory '%s' already created\" % df['NewLocation'][i]) \n",
    "    shutil.copy2(df['Path'][i], df['NewLocation'][i])"
   ]
  },
  {
   "cell_type": "code",
   "execution_count": null,
   "metadata": {},
   "outputs": [],
   "source": []
  }
 ],
 "metadata": {
  "kernelspec": {
   "display_name": "Python 3",
   "language": "python",
   "name": "python3"
  },
  "language_info": {
   "codemirror_mode": {
    "name": "ipython",
    "version": 3
   },
   "file_extension": ".py",
   "mimetype": "text/x-python",
   "name": "python",
   "nbconvert_exporter": "python",
   "pygments_lexer": "ipython3",
   "version": "3.7.7"
  }
 },
 "nbformat": 4,
 "nbformat_minor": 4
}
